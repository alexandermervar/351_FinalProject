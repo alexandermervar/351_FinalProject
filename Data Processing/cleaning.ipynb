{
 "cells": [
  {
   "cell_type": "code",
   "execution_count": 1,
   "metadata": {},
   "outputs": [],
   "source": [
    "import pandas as pd\n",
    "import numpy as np\n",
    "import matplotlib.pyplot as plt\n",
    "from sklearn.pipeline import Pipeline\n",
    "from sklearn.compose import ColumnTransformer\n",
    "from sklearn.impute import SimpleImputer\n",
    "from sklearn.preprocessing import StandardScaler"
   ]
  },
  {
   "attachments": {},
   "cell_type": "markdown",
   "metadata": {},
   "source": [
    "### Reading Data/Splitting"
   ]
  },
  {
   "cell_type": "code",
   "execution_count": 46,
   "metadata": {},
   "outputs": [],
   "source": [
    "# Read the data\n",
    "df = pd.read_csv('../Data/rawhousing.csv')"
   ]
  },
  {
   "cell_type": "code",
   "execution_count": 47,
   "metadata": {},
   "outputs": [],
   "source": [
    "# Splitting\n",
    "test = df.sample(frac = .15, random_state=100)\n",
    "train = df.drop(index=test.index)"
   ]
  },
  {
   "cell_type": "markdown",
   "metadata": {},
   "source": [
    "### Processing"
   ]
  },
  {
   "cell_type": "markdown",
   "metadata": {},
   "source": [
    "One-hot encoding non-numeric features"
   ]
  },
  {
   "cell_type": "code",
   "execution_count": 48,
   "metadata": {},
   "outputs": [],
   "source": [
    "def oneHot(df):\n",
    "    data = pd.get_dummies(df)\n",
    "    data = data.drop_duplicates()\n",
    "\n",
    "    return data"
   ]
  },
  {
   "cell_type": "markdown",
   "metadata": {},
   "source": [
    "Imputing missing values"
   ]
  },
  {
   "cell_type": "code",
   "execution_count": 49,
   "metadata": {},
   "outputs": [],
   "source": [
    "def impute(df):\n",
    "    steps = [('impute', SimpleImputer(missing_values=np.nan, strategy='mean'))]\n",
    "    pipe = Pipeline(steps=steps)\n",
    "\n",
    "    pipe.fit(df)\n",
    "    transformed = pd.DataFrame(pipe.transform(df), columns = df.columns)\n",
    "    return transformed"
   ]
  },
  {
   "cell_type": "code",
   "execution_count": 50,
   "metadata": {},
   "outputs": [],
   "source": [
    "test = oneHot(test)\n",
    "train = oneHot(train)\n",
    "df = oneHot(train)\n",
    "\n",
    "test = impute(test)\n",
    "train = impute(train)\n",
    "df = oneHot(test)\n"
   ]
  },
  {
   "cell_type": "markdown",
   "metadata": {},
   "source": [
    "Scaling features with high variance between values"
   ]
  },
  {
   "cell_type": "code",
   "execution_count": 51,
   "metadata": {},
   "outputs": [],
   "source": [
    "scaledCols = [\"longitude\",\"latitude\",\"housing_median_age\",\"total_rooms\",\"total_bedrooms\",\"population\",\"households\",\"median_income\", \"median_house_value\"]\n",
    "\n",
    "ct = ColumnTransformer([(\"scale\", StandardScaler(), scaledCols)],remainder='passthrough')\n",
    "ct.fit(train)\n",
    "train =  pd.DataFrame(ct.transform(train), columns = train.columns)\n",
    "test =  pd.DataFrame(ct.transform(test), columns = test.columns)\n",
    "\n",
    "ct.fit(df)\n",
    "\n",
    "df = pd.DataFrame(ct.transform(df), columns = df.columns)"
   ]
  },
  {
   "cell_type": "markdown",
   "metadata": {},
   "source": [
    "### Display and Export"
   ]
  },
  {
   "cell_type": "code",
   "execution_count": 52,
   "metadata": {},
   "outputs": [
    {
     "data": {
      "text/html": [
       "<div>\n",
       "<style scoped>\n",
       "    .dataframe tbody tr th:only-of-type {\n",
       "        vertical-align: middle;\n",
       "    }\n",
       "\n",
       "    .dataframe tbody tr th {\n",
       "        vertical-align: top;\n",
       "    }\n",
       "\n",
       "    .dataframe thead th {\n",
       "        text-align: right;\n",
       "    }\n",
       "</style>\n",
       "<table border=\"1\" class=\"dataframe\">\n",
       "  <thead>\n",
       "    <tr style=\"text-align: right;\">\n",
       "      <th></th>\n",
       "      <th>longitude</th>\n",
       "      <th>latitude</th>\n",
       "      <th>housing_median_age</th>\n",
       "      <th>total_rooms</th>\n",
       "      <th>total_bedrooms</th>\n",
       "      <th>population</th>\n",
       "      <th>households</th>\n",
       "      <th>median_income</th>\n",
       "      <th>median_house_value</th>\n",
       "      <th>ocean_proximity_&lt;1H OCEAN</th>\n",
       "      <th>ocean_proximity_INLAND</th>\n",
       "      <th>ocean_proximity_ISLAND</th>\n",
       "      <th>ocean_proximity_NEAR BAY</th>\n",
       "      <th>ocean_proximity_NEAR OCEAN</th>\n",
       "    </tr>\n",
       "  </thead>\n",
       "  <tbody>\n",
       "    <tr>\n",
       "      <th>0</th>\n",
       "      <td>-1.321548</td>\n",
       "      <td>1.049203</td>\n",
       "      <td>0.979649</td>\n",
       "      <td>-0.806566</td>\n",
       "      <td>-0.973528</td>\n",
       "      <td>-0.967841</td>\n",
       "      <td>-0.975642</td>\n",
       "      <td>2.349835</td>\n",
       "      <td>2.127787</td>\n",
       "      <td>0.0</td>\n",
       "      <td>0.0</td>\n",
       "      <td>0.0</td>\n",
       "      <td>1.0</td>\n",
       "      <td>0.0</td>\n",
       "    </tr>\n",
       "    <tr>\n",
       "      <th>1</th>\n",
       "      <td>-1.316569</td>\n",
       "      <td>1.039856</td>\n",
       "      <td>-0.605879</td>\n",
       "      <td>2.037720</td>\n",
       "      <td>1.338418</td>\n",
       "      <td>0.848030</td>\n",
       "      <td>1.653329</td>\n",
       "      <td>2.337291</td>\n",
       "      <td>1.312093</td>\n",
       "      <td>0.0</td>\n",
       "      <td>0.0</td>\n",
       "      <td>0.0</td>\n",
       "      <td>1.0</td>\n",
       "      <td>0.0</td>\n",
       "    </tr>\n",
       "    <tr>\n",
       "      <th>2</th>\n",
       "      <td>-1.331505</td>\n",
       "      <td>1.035183</td>\n",
       "      <td>1.851689</td>\n",
       "      <td>-0.626368</td>\n",
       "      <td>-0.722692</td>\n",
       "      <td>-0.761710</td>\n",
       "      <td>-0.734047</td>\n",
       "      <td>0.936241</td>\n",
       "      <td>1.162997</td>\n",
       "      <td>0.0</td>\n",
       "      <td>0.0</td>\n",
       "      <td>0.0</td>\n",
       "      <td>1.0</td>\n",
       "      <td>0.0</td>\n",
       "    </tr>\n",
       "    <tr>\n",
       "      <th>3</th>\n",
       "      <td>-1.331505</td>\n",
       "      <td>1.035183</td>\n",
       "      <td>1.851689</td>\n",
       "      <td>-0.464922</td>\n",
       "      <td>-0.616205</td>\n",
       "      <td>-0.755596</td>\n",
       "      <td>-0.630135</td>\n",
       "      <td>-0.010811</td>\n",
       "      <td>1.170798</td>\n",
       "      <td>0.0</td>\n",
       "      <td>0.0</td>\n",
       "      <td>0.0</td>\n",
       "      <td>1.0</td>\n",
       "      <td>0.0</td>\n",
       "    </tr>\n",
       "    <tr>\n",
       "      <th>4</th>\n",
       "      <td>-1.331505</td>\n",
       "      <td>1.035183</td>\n",
       "      <td>1.851689</td>\n",
       "      <td>-0.788729</td>\n",
       "      <td>-0.774752</td>\n",
       "      <td>-0.888358</td>\n",
       "      <td>-0.801590</td>\n",
       "      <td>0.089644</td>\n",
       "      <td>0.542341</td>\n",
       "      <td>0.0</td>\n",
       "      <td>0.0</td>\n",
       "      <td>0.0</td>\n",
       "      <td>1.0</td>\n",
       "      <td>0.0</td>\n",
       "    </tr>\n",
       "  </tbody>\n",
       "</table>\n",
       "</div>"
      ],
      "text/plain": [
       "   longitude  latitude  housing_median_age  total_rooms  total_bedrooms  \\\n",
       "0  -1.321548  1.049203            0.979649    -0.806566       -0.973528   \n",
       "1  -1.316569  1.039856           -0.605879     2.037720        1.338418   \n",
       "2  -1.331505  1.035183            1.851689    -0.626368       -0.722692   \n",
       "3  -1.331505  1.035183            1.851689    -0.464922       -0.616205   \n",
       "4  -1.331505  1.035183            1.851689    -0.788729       -0.774752   \n",
       "\n",
       "   population  households  median_income  median_house_value  \\\n",
       "0   -0.967841   -0.975642       2.349835            2.127787   \n",
       "1    0.848030    1.653329       2.337291            1.312093   \n",
       "2   -0.761710   -0.734047       0.936241            1.162997   \n",
       "3   -0.755596   -0.630135      -0.010811            1.170798   \n",
       "4   -0.888358   -0.801590       0.089644            0.542341   \n",
       "\n",
       "   ocean_proximity_<1H OCEAN  ocean_proximity_INLAND  ocean_proximity_ISLAND  \\\n",
       "0                        0.0                     0.0                     0.0   \n",
       "1                        0.0                     0.0                     0.0   \n",
       "2                        0.0                     0.0                     0.0   \n",
       "3                        0.0                     0.0                     0.0   \n",
       "4                        0.0                     0.0                     0.0   \n",
       "\n",
       "   ocean_proximity_NEAR BAY  ocean_proximity_NEAR OCEAN  \n",
       "0                       1.0                         0.0  \n",
       "1                       1.0                         0.0  \n",
       "2                       1.0                         0.0  \n",
       "3                       1.0                         0.0  \n",
       "4                       1.0                         0.0  "
      ]
     },
     "execution_count": 52,
     "metadata": {},
     "output_type": "execute_result"
    }
   ],
   "source": [
    "train.head()"
   ]
  },
  {
   "cell_type": "code",
   "execution_count": 53,
   "metadata": {},
   "outputs": [
    {
     "data": {
      "text/html": [
       "<div>\n",
       "<style scoped>\n",
       "    .dataframe tbody tr th:only-of-type {\n",
       "        vertical-align: middle;\n",
       "    }\n",
       "\n",
       "    .dataframe tbody tr th {\n",
       "        vertical-align: top;\n",
       "    }\n",
       "\n",
       "    .dataframe thead th {\n",
       "        text-align: right;\n",
       "    }\n",
       "</style>\n",
       "<table border=\"1\" class=\"dataframe\">\n",
       "  <thead>\n",
       "    <tr style=\"text-align: right;\">\n",
       "      <th></th>\n",
       "      <th>longitude</th>\n",
       "      <th>latitude</th>\n",
       "      <th>housing_median_age</th>\n",
       "      <th>total_rooms</th>\n",
       "      <th>total_bedrooms</th>\n",
       "      <th>population</th>\n",
       "      <th>households</th>\n",
       "      <th>median_income</th>\n",
       "      <th>median_house_value</th>\n",
       "      <th>ocean_proximity_&lt;1H OCEAN</th>\n",
       "      <th>ocean_proximity_INLAND</th>\n",
       "      <th>ocean_proximity_ISLAND</th>\n",
       "      <th>ocean_proximity_NEAR BAY</th>\n",
       "      <th>ocean_proximity_NEAR OCEAN</th>\n",
       "    </tr>\n",
       "  </thead>\n",
       "  <tbody>\n",
       "    <tr>\n",
       "      <th>0</th>\n",
       "      <td>0.734588</td>\n",
       "      <td>-0.852819</td>\n",
       "      <td>0.583267</td>\n",
       "      <td>-0.700917</td>\n",
       "      <td>-0.843377</td>\n",
       "      <td>-0.861282</td>\n",
       "      <td>-0.843155</td>\n",
       "      <td>-0.086231</td>\n",
       "      <td>0.330832</td>\n",
       "      <td>1.0</td>\n",
       "      <td>0.0</td>\n",
       "      <td>0.0</td>\n",
       "      <td>0.0</td>\n",
       "      <td>0.0</td>\n",
       "    </tr>\n",
       "    <tr>\n",
       "      <th>1</th>\n",
       "      <td>-1.341462</td>\n",
       "      <td>1.021163</td>\n",
       "      <td>1.851689</td>\n",
       "      <td>-0.463550</td>\n",
       "      <td>-0.199724</td>\n",
       "      <td>-0.234156</td>\n",
       "      <td>-0.263846</td>\n",
       "      <td>-1.380449</td>\n",
       "      <td>-0.892276</td>\n",
       "      <td>0.0</td>\n",
       "      <td>0.0</td>\n",
       "      <td>0.0</td>\n",
       "      <td>1.0</td>\n",
       "      <td>0.0</td>\n",
       "    </tr>\n",
       "    <tr>\n",
       "      <th>2</th>\n",
       "      <td>0.226777</td>\n",
       "      <td>-0.123789</td>\n",
       "      <td>-1.240090</td>\n",
       "      <td>0.861405</td>\n",
       "      <td>0.408434</td>\n",
       "      <td>0.646267</td>\n",
       "      <td>0.440158</td>\n",
       "      <td>0.505907</td>\n",
       "      <td>-0.528204</td>\n",
       "      <td>0.0</td>\n",
       "      <td>1.0</td>\n",
       "      <td>0.0</td>\n",
       "      <td>0.0</td>\n",
       "      <td>0.0</td>\n",
       "    </tr>\n",
       "    <tr>\n",
       "      <th>3</th>\n",
       "      <td>-1.779573</td>\n",
       "      <td>1.717481</td>\n",
       "      <td>-0.764432</td>\n",
       "      <td>-0.739792</td>\n",
       "      <td>-0.793683</td>\n",
       "      <td>-0.878750</td>\n",
       "      <td>-0.908099</td>\n",
       "      <td>-0.518305</td>\n",
       "      <td>-0.458857</td>\n",
       "      <td>0.0</td>\n",
       "      <td>1.0</td>\n",
       "      <td>0.0</td>\n",
       "      <td>0.0</td>\n",
       "      <td>0.0</td>\n",
       "    </tr>\n",
       "    <tr>\n",
       "      <th>4</th>\n",
       "      <td>-1.465926</td>\n",
       "      <td>1.095935</td>\n",
       "      <td>0.186885</td>\n",
       "      <td>1.788919</td>\n",
       "      <td>2.438782</td>\n",
       "      <td>1.338027</td>\n",
       "      <td>2.500211</td>\n",
       "      <td>-0.514616</td>\n",
       "      <td>1.014767</td>\n",
       "      <td>0.0</td>\n",
       "      <td>0.0</td>\n",
       "      <td>0.0</td>\n",
       "      <td>1.0</td>\n",
       "      <td>0.0</td>\n",
       "    </tr>\n",
       "  </tbody>\n",
       "</table>\n",
       "</div>"
      ],
      "text/plain": [
       "   longitude  latitude  housing_median_age  total_rooms  total_bedrooms  \\\n",
       "0   0.734588 -0.852819            0.583267    -0.700917       -0.843377   \n",
       "1  -1.341462  1.021163            1.851689    -0.463550       -0.199724   \n",
       "2   0.226777 -0.123789           -1.240090     0.861405        0.408434   \n",
       "3  -1.779573  1.717481           -0.764432    -0.739792       -0.793683   \n",
       "4  -1.465926  1.095935            0.186885     1.788919        2.438782   \n",
       "\n",
       "   population  households  median_income  median_house_value  \\\n",
       "0   -0.861282   -0.843155      -0.086231            0.330832   \n",
       "1   -0.234156   -0.263846      -1.380449           -0.892276   \n",
       "2    0.646267    0.440158       0.505907           -0.528204   \n",
       "3   -0.878750   -0.908099      -0.518305           -0.458857   \n",
       "4    1.338027    2.500211      -0.514616            1.014767   \n",
       "\n",
       "   ocean_proximity_<1H OCEAN  ocean_proximity_INLAND  ocean_proximity_ISLAND  \\\n",
       "0                        1.0                     0.0                     0.0   \n",
       "1                        0.0                     0.0                     0.0   \n",
       "2                        0.0                     1.0                     0.0   \n",
       "3                        0.0                     1.0                     0.0   \n",
       "4                        0.0                     0.0                     0.0   \n",
       "\n",
       "   ocean_proximity_NEAR BAY  ocean_proximity_NEAR OCEAN  \n",
       "0                       0.0                         0.0  \n",
       "1                       1.0                         0.0  \n",
       "2                       0.0                         0.0  \n",
       "3                       0.0                         0.0  \n",
       "4                       1.0                         0.0  "
      ]
     },
     "execution_count": 53,
     "metadata": {},
     "output_type": "execute_result"
    }
   ],
   "source": [
    "test.head()"
   ]
  },
  {
   "cell_type": "code",
   "execution_count": 34,
   "metadata": {},
   "outputs": [],
   "source": [
    "train.to_csv(\"../Data/traincleaned.csv\", index=False)\n",
    "test.to_csv(\"../Data/testcleaned.csv\", index=False)\n",
    "df.to_csv(\"../Data/housingcleaned.csv\", index=False)"
   ]
  },
  {
   "cell_type": "code",
   "execution_count": 35,
   "metadata": {},
   "outputs": [
    {
     "data": {
      "text/plain": [
       "longitude                     464\n",
       "latitude                      464\n",
       "housing_median_age            464\n",
       "total_rooms                   464\n",
       "total_bedrooms                464\n",
       "population                    464\n",
       "households                    464\n",
       "median_income                 464\n",
       "median_house_value            464\n",
       "ocean_proximity_<1H OCEAN     464\n",
       "ocean_proximity_INLAND        464\n",
       "ocean_proximity_NEAR BAY      464\n",
       "ocean_proximity_NEAR OCEAN    464\n",
       "dtype: int64"
      ]
     },
     "execution_count": 35,
     "metadata": {},
     "output_type": "execute_result"
    }
   ],
   "source": [
    "df.count()"
   ]
  }
 ],
 "metadata": {
  "kernelspec": {
   "display_name": "Python 3",
   "language": "python",
   "name": "python3"
  },
  "language_info": {
   "codemirror_mode": {
    "name": "ipython",
    "version": 3
   },
   "file_extension": ".py",
   "mimetype": "text/x-python",
   "name": "python",
   "nbconvert_exporter": "python",
   "pygments_lexer": "ipython3",
   "version": "3.8.10"
  },
  "orig_nbformat": 4,
  "vscode": {
   "interpreter": {
    "hash": "916dbcbb3f70747c44a77c7bcd40155683ae19c65e1c03b4aa3499c5328201f1"
   }
  }
 },
 "nbformat": 4,
 "nbformat_minor": 2
}
