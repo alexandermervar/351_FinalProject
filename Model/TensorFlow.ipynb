{
 "cells": [
  {
   "cell_type": "markdown",
   "metadata": {},
   "source": [
    "# Initialize\n"
   ]
  },
  {
   "cell_type": "code",
   "execution_count": 5,
   "metadata": {},
   "outputs": [
    {
     "name": "stdout",
     "output_type": "stream",
     "text": [
      "Tensor Flow Version: 2.11.0\n",
      "Keras Version: 2.11.0\n",
      "\n",
      "Python 3.8.10 (default, Jun 22 2022, 20:18:18) \n",
      "[GCC 9.4.0]\n",
      "Pandas 1.5.1\n",
      "Scikit-Learn 1.1.3\n",
      "GPU is NOT AVAILABLE\n"
     ]
    }
   ],
   "source": [
    "# What version of Python do you have?\n",
    "import sys\n",
    "\n",
    "import pandas as pd\n",
    "import sklearn as sk\n",
    "import tensorflow as tf\n",
    "from tensorflow import keras\n",
    "\n",
    "print(f\"Tensor Flow Version: {tf.__version__}\")\n",
    "print(f\"Keras Version: {tensorflow.keras.__version__}\")\n",
    "print()\n",
    "print(f\"Python {sys.version}\")\n",
    "print(f\"Pandas {pd.__version__}\")\n",
    "print(f\"Scikit-Learn {sk.__version__}\")\n",
    "gpu = len(tf.config.list_physical_devices('GPU'))>0\n",
    "print(\"GPU is\", \"available\" if gpu else \"NOT AVAILABLE\")"
   ]
  },
  {
   "cell_type": "markdown",
   "metadata": {},
   "source": [
    "# Load Data"
   ]
  },
  {
   "cell_type": "code",
   "execution_count": 10,
   "metadata": {},
   "outputs": [],
   "source": [
    "df = pd.read_csv('../Data/cleaned.csv')\n",
    "\n",
    "y = df.pop('median_house_value')\n",
    "\n",
    "X_train,X_test,y_train,y_test = train_test_split(df,y,test_size=0.2)"
   ]
  },
  {
   "cell_type": "markdown",
   "metadata": {},
   "source": [
    "# Define and Compile Model"
   ]
  },
  {
   "cell_type": "code",
   "execution_count": 103,
   "metadata": {},
   "outputs": [],
   "source": [
    "model = tf.keras.Sequential([\n",
    "    # Add a fully connected layer with 32 output nodes\n",
    "    tf.keras.layers.Dense(32, activation='relu'),\n",
    "    # Add a fully connected layer with 32 output nodes\n",
    "    tf.keras.layers.Dense(32, activation='relu'),\n",
    "    # Add a fully connected layer with 1 output node (the final guess)\n",
    "    tf.keras.layers.Dense(1)\n",
    "    ])\n",
    "\n",
    "model.compile(optimizer='adam',\n",
    "              loss='mean_absolute_error')"
   ]
  },
  {
   "cell_type": "code",
   "execution_count": 104,
   "metadata": {},
   "outputs": [
    {
     "name": "stdout",
     "output_type": "stream",
     "text": [
      "Epoch 1/100\n",
      "516/516 [==============================] - 2s 2ms/step - loss: 0.4297\n",
      "Epoch 2/100\n",
      "516/516 [==============================] - 1s 2ms/step - loss: 0.3659\n",
      "Epoch 3/100\n",
      "516/516 [==============================] - 1s 2ms/step - loss: 0.3525\n",
      "Epoch 4/100\n",
      "516/516 [==============================] - 1s 2ms/step - loss: 0.3451\n",
      "Epoch 5/100\n",
      "516/516 [==============================] - 1s 2ms/step - loss: 0.3393\n",
      "Epoch 6/100\n",
      "516/516 [==============================] - 1s 2ms/step - loss: 0.3353\n",
      "Epoch 7/100\n",
      "516/516 [==============================] - 1s 2ms/step - loss: 0.3329\n",
      "Epoch 8/100\n",
      "516/516 [==============================] - 1s 2ms/step - loss: 0.3292\n",
      "Epoch 9/100\n",
      "516/516 [==============================] - 1s 2ms/step - loss: 0.3267\n",
      "Epoch 10/100\n",
      "516/516 [==============================] - 1s 2ms/step - loss: 0.3230\n",
      "Epoch 11/100\n",
      "516/516 [==============================] - 1s 2ms/step - loss: 0.3213\n",
      "Epoch 12/100\n",
      "516/516 [==============================] - 1s 2ms/step - loss: 0.3202\n",
      "Epoch 13/100\n",
      "516/516 [==============================] - 1s 2ms/step - loss: 0.3176\n",
      "Epoch 14/100\n",
      "516/516 [==============================] - 1s 2ms/step - loss: 0.3171\n",
      "Epoch 15/100\n",
      "516/516 [==============================] - 1s 2ms/step - loss: 0.3153\n",
      "Epoch 16/100\n",
      "516/516 [==============================] - 1s 2ms/step - loss: 0.3134\n",
      "Epoch 17/100\n",
      "516/516 [==============================] - 1s 2ms/step - loss: 0.3115\n",
      "Epoch 18/100\n",
      "516/516 [==============================] - 1s 2ms/step - loss: 0.3109\n",
      "Epoch 19/100\n",
      "516/516 [==============================] - 1s 2ms/step - loss: 0.3103\n",
      "Epoch 20/100\n",
      "516/516 [==============================] - 1s 2ms/step - loss: 0.3087\n",
      "Epoch 21/100\n",
      "516/516 [==============================] - 1s 2ms/step - loss: 0.3076\n",
      "Epoch 22/100\n",
      "516/516 [==============================] - 1s 2ms/step - loss: 0.3062\n",
      "Epoch 23/100\n",
      "516/516 [==============================] - 1s 2ms/step - loss: 0.3057\n",
      "Epoch 24/100\n",
      "516/516 [==============================] - 1s 2ms/step - loss: 0.3043\n",
      "Epoch 25/100\n",
      "516/516 [==============================] - 1s 2ms/step - loss: 0.3036\n",
      "Epoch 26/100\n",
      "516/516 [==============================] - 1s 2ms/step - loss: 0.3023\n",
      "Epoch 27/100\n",
      "516/516 [==============================] - 1s 2ms/step - loss: 0.3013\n",
      "Epoch 28/100\n",
      "516/516 [==============================] - 1s 2ms/step - loss: 0.3015\n",
      "Epoch 29/100\n",
      "516/516 [==============================] - 1s 2ms/step - loss: 0.2995\n",
      "Epoch 30/100\n",
      "516/516 [==============================] - 1s 2ms/step - loss: 0.2996\n",
      "Epoch 31/100\n",
      "516/516 [==============================] - 1s 2ms/step - loss: 0.2984\n",
      "Epoch 32/100\n",
      "516/516 [==============================] - 1s 2ms/step - loss: 0.2979\n",
      "Epoch 33/100\n",
      "516/516 [==============================] - 1s 2ms/step - loss: 0.2963\n",
      "Epoch 34/100\n",
      "516/516 [==============================] - 1s 2ms/step - loss: 0.2952\n",
      "Epoch 35/100\n",
      "516/516 [==============================] - 1s 2ms/step - loss: 0.2952\n",
      "Epoch 36/100\n",
      "516/516 [==============================] - 1s 2ms/step - loss: 0.2934\n",
      "Epoch 37/100\n",
      "516/516 [==============================] - 1s 2ms/step - loss: 0.2931\n",
      "Epoch 38/100\n",
      "516/516 [==============================] - 1s 2ms/step - loss: 0.2938\n",
      "Epoch 39/100\n",
      "516/516 [==============================] - 1s 2ms/step - loss: 0.2921\n",
      "Epoch 40/100\n",
      "516/516 [==============================] - 1s 2ms/step - loss: 0.2916\n",
      "Epoch 41/100\n",
      "516/516 [==============================] - 1s 2ms/step - loss: 0.2914\n",
      "Epoch 42/100\n",
      "516/516 [==============================] - 1s 2ms/step - loss: 0.2904\n",
      "Epoch 43/100\n",
      "516/516 [==============================] - 1s 2ms/step - loss: 0.2905\n",
      "Epoch 44/100\n",
      "516/516 [==============================] - 1s 2ms/step - loss: 0.2895\n",
      "Epoch 45/100\n",
      "516/516 [==============================] - 1s 2ms/step - loss: 0.2896\n",
      "Epoch 46/100\n",
      "516/516 [==============================] - 1s 2ms/step - loss: 0.2883\n",
      "Epoch 47/100\n",
      "516/516 [==============================] - 1s 2ms/step - loss: 0.2885\n",
      "Epoch 48/100\n",
      "516/516 [==============================] - 1s 2ms/step - loss: 0.2886\n",
      "Epoch 49/100\n",
      "516/516 [==============================] - 1s 2ms/step - loss: 0.2874\n",
      "Epoch 50/100\n",
      "516/516 [==============================] - 1s 2ms/step - loss: 0.2873\n",
      "Epoch 51/100\n",
      "516/516 [==============================] - 1s 2ms/step - loss: 0.2860\n",
      "Epoch 52/100\n",
      "516/516 [==============================] - 1s 2ms/step - loss: 0.2858\n",
      "Epoch 53/100\n",
      "516/516 [==============================] - 1s 2ms/step - loss: 0.2863\n",
      "Epoch 54/100\n",
      "516/516 [==============================] - 1s 2ms/step - loss: 0.2864\n",
      "Epoch 55/100\n",
      "516/516 [==============================] - 1s 2ms/step - loss: 0.2850\n",
      "Epoch 56/100\n",
      "516/516 [==============================] - 1s 2ms/step - loss: 0.2848\n",
      "Epoch 57/100\n",
      "516/516 [==============================] - 1s 2ms/step - loss: 0.2845\n",
      "Epoch 58/100\n",
      "516/516 [==============================] - 1s 2ms/step - loss: 0.2843\n",
      "Epoch 59/100\n",
      "516/516 [==============================] - 1s 2ms/step - loss: 0.2847\n",
      "Epoch 60/100\n",
      "516/516 [==============================] - 1s 2ms/step - loss: 0.2840\n",
      "Epoch 61/100\n",
      "516/516 [==============================] - 1s 2ms/step - loss: 0.2842\n",
      "Epoch 62/100\n",
      "516/516 [==============================] - 1s 2ms/step - loss: 0.2833\n",
      "Epoch 63/100\n",
      "516/516 [==============================] - 1s 2ms/step - loss: 0.2823\n",
      "Epoch 64/100\n",
      "516/516 [==============================] - 1s 2ms/step - loss: 0.2829\n",
      "Epoch 65/100\n",
      "516/516 [==============================] - 1s 2ms/step - loss: 0.2827\n",
      "Epoch 66/100\n",
      "516/516 [==============================] - 1s 2ms/step - loss: 0.2809\n",
      "Epoch 67/100\n",
      "516/516 [==============================] - 1s 2ms/step - loss: 0.2826\n",
      "Epoch 68/100\n",
      "516/516 [==============================] - 1s 2ms/step - loss: 0.2815\n",
      "Epoch 69/100\n",
      "516/516 [==============================] - 1s 2ms/step - loss: 0.2804\n",
      "Epoch 70/100\n",
      "516/516 [==============================] - 1s 2ms/step - loss: 0.2803\n",
      "Epoch 71/100\n",
      "516/516 [==============================] - 1s 2ms/step - loss: 0.2809\n",
      "Epoch 72/100\n",
      "516/516 [==============================] - 1s 2ms/step - loss: 0.2804\n",
      "Epoch 73/100\n",
      "516/516 [==============================] - 1s 2ms/step - loss: 0.2801\n",
      "Epoch 74/100\n",
      "516/516 [==============================] - 1s 2ms/step - loss: 0.2806\n",
      "Epoch 75/100\n",
      "516/516 [==============================] - 1s 2ms/step - loss: 0.2792\n",
      "Epoch 76/100\n",
      "516/516 [==============================] - 1s 2ms/step - loss: 0.2800\n",
      "Epoch 77/100\n",
      "516/516 [==============================] - 1s 2ms/step - loss: 0.2799\n",
      "Epoch 78/100\n",
      "516/516 [==============================] - 1s 2ms/step - loss: 0.2790\n",
      "Epoch 79/100\n",
      "516/516 [==============================] - 1s 2ms/step - loss: 0.2795\n",
      "Epoch 80/100\n",
      "516/516 [==============================] - 1s 2ms/step - loss: 0.2786\n",
      "Epoch 81/100\n",
      "516/516 [==============================] - 1s 2ms/step - loss: 0.2781\n",
      "Epoch 82/100\n",
      "516/516 [==============================] - 1s 2ms/step - loss: 0.2784\n",
      "Epoch 83/100\n",
      "516/516 [==============================] - 1s 2ms/step - loss: 0.2787\n",
      "Epoch 84/100\n",
      "516/516 [==============================] - 1s 2ms/step - loss: 0.2787\n",
      "Epoch 85/100\n",
      "516/516 [==============================] - 1s 2ms/step - loss: 0.2771\n",
      "Epoch 86/100\n",
      "516/516 [==============================] - 1s 2ms/step - loss: 0.2774\n",
      "Epoch 87/100\n",
      "516/516 [==============================] - 1s 2ms/step - loss: 0.2764\n",
      "Epoch 88/100\n",
      "516/516 [==============================] - 1s 2ms/step - loss: 0.2773\n",
      "Epoch 89/100\n",
      "516/516 [==============================] - 1s 2ms/step - loss: 0.2765\n",
      "Epoch 90/100\n",
      "516/516 [==============================] - 1s 2ms/step - loss: 0.2764\n",
      "Epoch 91/100\n",
      "516/516 [==============================] - 1s 2ms/step - loss: 0.2772\n",
      "Epoch 92/100\n",
      "516/516 [==============================] - 1s 2ms/step - loss: 0.2762\n",
      "Epoch 93/100\n",
      "516/516 [==============================] - 1s 2ms/step - loss: 0.2761\n",
      "Epoch 94/100\n",
      "516/516 [==============================] - 1s 2ms/step - loss: 0.2757\n",
      "Epoch 95/100\n",
      "516/516 [==============================] - 1s 2ms/step - loss: 0.2760\n",
      "Epoch 96/100\n",
      "516/516 [==============================] - 1s 2ms/step - loss: 0.2759\n",
      "Epoch 97/100\n",
      "516/516 [==============================] - 1s 2ms/step - loss: 0.2755\n",
      "Epoch 98/100\n",
      "516/516 [==============================] - 1s 2ms/step - loss: 0.2750\n",
      "Epoch 99/100\n",
      "516/516 [==============================] - 1s 2ms/step - loss: 0.2754\n",
      "Epoch 100/100\n",
      "516/516 [==============================] - 1s 2ms/step - loss: 0.2754\n"
     ]
    },
    {
     "data": {
      "text/plain": [
       "<keras.callbacks.History at 0x7f8df1339250>"
      ]
     },
     "execution_count": 104,
     "metadata": {},
     "output_type": "execute_result"
    }
   ],
   "source": [
    "model.fit(X_train,y_train, epochs=100)"
   ]
  },
  {
   "cell_type": "markdown",
   "metadata": {},
   "source": [
    "# Evaluate Performance"
   ]
  },
  {
   "cell_type": "code",
   "execution_count": 105,
   "metadata": {},
   "outputs": [
    {
     "name": "stdout",
     "output_type": "stream",
     "text": [
      "129/129 [==============================] - 0s 2ms/step - loss: 0.2855\n"
     ]
    }
   ],
   "source": [
    "test_results = model.evaluate(X_test, y_test)"
   ]
  },
  {
   "cell_type": "code",
   "execution_count": 106,
   "metadata": {},
   "outputs": [
    {
     "name": "stdout",
     "output_type": "stream",
     "text": [
      "129/129 [==============================] - 0s 2ms/step\n"
     ]
    }
   ],
   "source": [
    "test_predictions = model.predict(X_test).flatten()"
   ]
  },
  {
   "cell_type": "code",
   "execution_count": 107,
   "metadata": {},
   "outputs": [
    {
     "data": {
      "text/plain": [
       "16512"
      ]
     },
     "execution_count": 107,
     "metadata": {},
     "output_type": "execute_result"
    }
   ],
   "source": [
    "len(X_train)"
   ]
  },
  {
   "cell_type": "code",
   "execution_count": 108,
   "metadata": {},
   "outputs": [
    {
     "data": {
      "text/plain": [
       "Text(0, 0.5, 'Predictions [Value]')"
      ]
     },
     "execution_count": 108,
     "metadata": {},
     "output_type": "execute_result"
    },
    {
     "data": {
      "image/png": "[encoded data removed]",
      "text/plain": [
       "<Figure size 640x480 with 1 Axes>"
      ]
     },
     "metadata": {},
     "output_type": "display_data"
    }
   ],
   "source": [
    "from matplotlib import pyplot as plt\n",
    "\n",
    "\n",
    "plot = plt.axes(aspect='equal')\n",
    "plt.scatter(y_test, test_predictions)\n",
    "plt.xlabel('True Values [Value]')\n",
    "plt.ylabel('Predictions [Value]')"
   ]
  }
 ],
 "metadata": {
  "kernelspec": {
   "display_name": "Python 3.8.10 64-bit",
   "language": "python",
   "name": "python3"
  },
  "language_info": {
   "codemirror_mode": {
    "name": "ipython",
    "version": 3
   },
   "file_extension": ".py",
   "mimetype": "text/x-python",
   "name": "python",
   "nbconvert_exporter": "python",
   "pygments_lexer": "ipython3",
   "version": "3.8.10"
  },
  "orig_nbformat": 4,
  "vscode": {
   "interpreter": {
    "hash": "916dbcbb3f70747c44a77c7bcd40155683ae19c65e1c03b4aa3499c5328201f1"
   }
  }
 },
 "nbformat": 4,
 "nbformat_minor": 2
}
