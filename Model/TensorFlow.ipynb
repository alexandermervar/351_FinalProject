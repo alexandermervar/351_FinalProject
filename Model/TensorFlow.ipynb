{
 "cells": [
  {
   "cell_type": "markdown",
   "metadata": {},
   "source": [
    "# Initialize\n"
   ]
  },
  {
   "cell_type": "code",
   "execution_count": 1,
   "metadata": {},
   "outputs": [
    {
     "name": "stderr",
     "output_type": "stream",
     "text": [
      "2022-12-09 09:27:05.160991: I tensorflow/core/platform/cpu_feature_guard.cc:193] This TensorFlow binary is optimized with oneAPI Deep Neural Network Library (oneDNN) to use the following CPU instructions in performance-critical operations:  AVX2 FMA\n",
      "To enable them in other operations, rebuild TensorFlow with the appropriate compiler flags.\n",
      "2022-12-09 09:27:05.990110: W tensorflow/compiler/xla/stream_executor/platform/default/dso_loader.cc:64] Could not load dynamic library 'libcudart.so.11.0'; dlerror: libcudart.so.11.0: cannot open shared object file: No such file or directory\n",
      "2022-12-09 09:27:05.990149: I tensorflow/compiler/xla/stream_executor/cuda/cudart_stub.cc:29] Ignore above cudart dlerror if you do not have a GPU set up on your machine.\n",
      "2022-12-09 09:27:08.959014: W tensorflow/compiler/xla/stream_executor/platform/default/dso_loader.cc:64] Could not load dynamic library 'libnvinfer.so.7'; dlerror: libnvinfer.so.7: cannot open shared object file: No such file or directory\n",
      "2022-12-09 09:27:08.959309: W tensorflow/compiler/xla/stream_executor/platform/default/dso_loader.cc:64] Could not load dynamic library 'libnvinfer_plugin.so.7'; dlerror: libnvinfer_plugin.so.7: cannot open shared object file: No such file or directory\n",
      "2022-12-09 09:27:08.959325: W tensorflow/compiler/tf2tensorrt/utils/py_utils.cc:38] TF-TRT Warning: Cannot dlopen some TensorRT libraries. If you would like to use Nvidia GPU with TensorRT, please make sure the missing libraries mentioned above are installed properly.\n"
     ]
    },
    {
     "name": "stdout",
     "output_type": "stream",
     "text": [
      "Tensor Flow Version: 2.11.0\n",
      "Keras Version: 2.11.0\n",
      "\n",
      "Python 3.8.10 (default, Jun 22 2022, 20:18:18) \n",
      "[GCC 9.4.0]\n",
      "Pandas 1.5.1\n",
      "Scikit-Learn 1.1.3\n",
      "GPU is NOT AVAILABLE\n"
     ]
    },
    {
     "name": "stderr",
     "output_type": "stream",
     "text": [
      "2022-12-09 09:27:11.312840: W tensorflow/compiler/xla/stream_executor/platform/default/dso_loader.cc:64] Could not load dynamic library 'libcuda.so.1'; dlerror: libcuda.so.1: cannot open shared object file: No such file or directory\n",
      "2022-12-09 09:27:11.313351: W tensorflow/compiler/xla/stream_executor/cuda/cuda_driver.cc:265] failed call to cuInit: UNKNOWN ERROR (303)\n",
      "2022-12-09 09:27:11.313388: I tensorflow/compiler/xla/stream_executor/cuda/cuda_diagnostics.cc:156] kernel driver does not appear to be running on this host (aidanLaptop): /proc/driver/nvidia/version does not exist\n"
     ]
    }
   ],
   "source": [
    "# What version of Python do you have?\n",
    "import sys\n",
    "\n",
    "import pandas as pd\n",
    "import sklearn as sk\n",
    "import tensorflow as tf\n",
    "from matplotlib import pyplot as plt\n",
    "import keras\n",
    "\n",
    "\n",
    "print(f\"Tensor Flow Version: {tf.__version__}\")\n",
    "print(f\"Keras Version: {tf.keras.__version__}\")\n",
    "print()\n",
    "print(f\"Python {sys.version}\")\n",
    "print(f\"Pandas {pd.__version__}\")\n",
    "print(f\"Scikit-Learn {sk.__version__}\")\n",
    "gpu = len(tf.config.list_physical_devices('GPU'))>0\n",
    "print(\"GPU is\", \"available\" if gpu else \"NOT AVAILABLE\")"
   ]
  },
  {
   "cell_type": "markdown",
   "metadata": {},
   "source": [
    "# Load Data"
   ]
  },
  {
   "cell_type": "code",
   "execution_count": null,
   "metadata": {},
   "outputs": [],
   "source": [
    "from sklearn.model_selection import train_test_split"
   ]
  },
  {
   "cell_type": "code",
   "execution_count": 3,
   "metadata": {},
   "outputs": [],
   "source": [
    "df = pd.read_csv('../Data/cleaned.csv')\n",
    "\n",
    "y = df.pop('median_house_value')\n",
    "\n",
    "# Generate a subset for testing\n",
    "X_train, X_test, y_train, y_test = train_test_split(df, y, test_size=0.1)"
   ]
  },
  {
   "cell_type": "markdown",
   "metadata": {},
   "source": [
    "# Define and Compile Model"
   ]
  },
  {
   "cell_type": "code",
   "execution_count": 13,
   "metadata": {},
   "outputs": [],
   "source": [
    "from keras import layers"
   ]
  },
  {
   "cell_type": "code",
   "execution_count": 25,
   "metadata": {},
   "outputs": [],
   "source": [
    "# Create a CNN model that trains on the data\n",
    "def create_model():\n",
    "    model = keras.Sequential([    \n",
    "        keras.Input(shape=(13,)),\n",
    "        keras.layers.Dense(64, activation='relu', input_shape=[len(X_train.keys())]),\n",
    "        keras.layers.Dense(64, activation='relu'),\n",
    "        keras.layers.Dropout(0.2),\n",
    "        keras.layers.Dense(64, activation='softmax'),\n",
    "        keras.layers.Dense(1)\n",
    "    ])\n",
    "\n",
    "    optimizer = tf.keras.optimizers.RMSprop(0.001)\n",
    "\n",
    "    model.compile(loss='mse',\n",
    "                optimizer=optimizer,\n",
    "                metrics=['mae', 'mse'])\n",
    "    return model"
   ]
  },
  {
   "cell_type": "code",
   "execution_count": 26,
   "metadata": {},
   "outputs": [
    {
     "name": "stdout",
     "output_type": "stream",
     "text": [
      "Epoch 1/100\n",
      "581/581 [==============================] - 3s 3ms/step - loss: 0.5783 - mae: 0.5668 - mse: 0.5783\n",
      "Epoch 2/100\n",
      "581/581 [==============================] - 2s 3ms/step - loss: 0.3590 - mae: 0.4358 - mse: 0.3590\n",
      "Epoch 3/100\n",
      "581/581 [==============================] - 2s 3ms/step - loss: 0.2955 - mae: 0.3924 - mse: 0.2955\n",
      "Epoch 4/100\n",
      "581/581 [==============================] - 2s 3ms/step - loss: 0.2716 - mae: 0.3723 - mse: 0.2716\n",
      "Epoch 5/100\n",
      "581/581 [==============================] - 2s 3ms/step - loss: 0.2586 - mae: 0.3595 - mse: 0.2586\n",
      "Epoch 6/100\n",
      "581/581 [==============================] - 2s 3ms/step - loss: 0.2521 - mae: 0.3522 - mse: 0.2521\n",
      "Epoch 7/100\n",
      "581/581 [==============================] - 2s 3ms/step - loss: 0.2453 - mae: 0.3450 - mse: 0.2453\n",
      "Epoch 8/100\n",
      "581/581 [==============================] - 2s 3ms/step - loss: 0.2428 - mae: 0.3413 - mse: 0.2428\n",
      "Epoch 9/100\n",
      "581/581 [==============================] - 2s 3ms/step - loss: 0.2384 - mae: 0.3382 - mse: 0.2384\n",
      "Epoch 10/100\n",
      "581/581 [==============================] - 2s 3ms/step - loss: 0.2355 - mae: 0.3340 - mse: 0.2355\n",
      "Epoch 11/100\n",
      "581/581 [==============================] - 2s 3ms/step - loss: 0.2320 - mae: 0.3314 - mse: 0.2320\n",
      "Epoch 12/100\n",
      "581/581 [==============================] - 2s 3ms/step - loss: 0.2304 - mae: 0.3293 - mse: 0.2304\n",
      "Epoch 13/100\n",
      "581/581 [==============================] - 2s 3ms/step - loss: 0.2275 - mae: 0.3261 - mse: 0.2275\n",
      "Epoch 14/100\n",
      "581/581 [==============================] - 2s 3ms/step - loss: 0.2256 - mae: 0.3238 - mse: 0.2256\n",
      "Epoch 15/100\n",
      "581/581 [==============================] - 2s 3ms/step - loss: 0.2224 - mae: 0.3213 - mse: 0.2224\n",
      "Epoch 16/100\n",
      "581/581 [==============================] - 2s 3ms/step - loss: 0.2212 - mae: 0.3202 - mse: 0.2212\n",
      "Epoch 17/100\n",
      "581/581 [==============================] - 2s 3ms/step - loss: 0.2194 - mae: 0.3181 - mse: 0.2194\n",
      "Epoch 18/100\n",
      "581/581 [==============================] - 2s 3ms/step - loss: 0.2163 - mae: 0.3157 - mse: 0.2163\n",
      "Epoch 19/100\n",
      "581/581 [==============================] - 2s 3ms/step - loss: 0.2161 - mae: 0.3153 - mse: 0.2161\n",
      "Epoch 20/100\n",
      "581/581 [==============================] - 1s 2ms/step - loss: 0.2137 - mae: 0.3138 - mse: 0.2137\n",
      "Epoch 21/100\n",
      "581/581 [==============================] - 2s 3ms/step - loss: 0.2129 - mae: 0.3125 - mse: 0.2129\n",
      "Epoch 22/100\n",
      "581/581 [==============================] - 2s 3ms/step - loss: 0.2115 - mae: 0.3114 - mse: 0.2115\n",
      "Epoch 23/100\n",
      "581/581 [==============================] - 2s 3ms/step - loss: 0.2107 - mae: 0.3115 - mse: 0.2107\n",
      "Epoch 24/100\n",
      "581/581 [==============================] - 2s 3ms/step - loss: 0.2096 - mae: 0.3093 - mse: 0.2096\n",
      "Epoch 25/100\n",
      "581/581 [==============================] - 2s 3ms/step - loss: 0.2074 - mae: 0.3088 - mse: 0.2074\n",
      "Epoch 26/100\n",
      "581/581 [==============================] - 2s 3ms/step - loss: 0.2067 - mae: 0.3073 - mse: 0.2067\n",
      "Epoch 27/100\n",
      "581/581 [==============================] - 2s 3ms/step - loss: 0.2047 - mae: 0.3052 - mse: 0.2047\n",
      "Epoch 28/100\n",
      "581/581 [==============================] - 2s 3ms/step - loss: 0.2046 - mae: 0.3056 - mse: 0.2046\n",
      "Epoch 29/100\n",
      "581/581 [==============================] - 2s 3ms/step - loss: 0.2036 - mae: 0.3053 - mse: 0.2036\n",
      "Epoch 30/100\n",
      "581/581 [==============================] - 2s 3ms/step - loss: 0.2035 - mae: 0.3047 - mse: 0.2035\n",
      "Epoch 31/100\n",
      "581/581 [==============================] - 2s 3ms/step - loss: 0.2041 - mae: 0.3043 - mse: 0.2041\n",
      "Epoch 32/100\n",
      "581/581 [==============================] - 2s 3ms/step - loss: 0.2029 - mae: 0.3044 - mse: 0.2029\n",
      "Epoch 33/100\n",
      "581/581 [==============================] - 2s 3ms/step - loss: 0.2017 - mae: 0.3036 - mse: 0.2017\n",
      "Epoch 34/100\n",
      "581/581 [==============================] - 2s 3ms/step - loss: 0.2015 - mae: 0.3032 - mse: 0.2015\n",
      "Epoch 35/100\n",
      "581/581 [==============================] - 2s 3ms/step - loss: 0.2007 - mae: 0.3026 - mse: 0.2007\n",
      "Epoch 36/100\n",
      "581/581 [==============================] - 2s 3ms/step - loss: 0.1995 - mae: 0.3007 - mse: 0.1995\n",
      "Epoch 37/100\n",
      "581/581 [==============================] - 2s 3ms/step - loss: 0.1998 - mae: 0.3012 - mse: 0.1998\n",
      "Epoch 38/100\n",
      "581/581 [==============================] - 2s 3ms/step - loss: 0.1986 - mae: 0.3004 - mse: 0.1986\n",
      "Epoch 39/100\n",
      "581/581 [==============================] - 2s 3ms/step - loss: 0.1978 - mae: 0.2997 - mse: 0.1978\n",
      "Epoch 40/100\n",
      "581/581 [==============================] - 2s 3ms/step - loss: 0.1975 - mae: 0.2998 - mse: 0.1975\n",
      "Epoch 41/100\n",
      "581/581 [==============================] - 2s 3ms/step - loss: 0.1975 - mae: 0.2995 - mse: 0.1975\n",
      "Epoch 42/100\n",
      "581/581 [==============================] - 2s 3ms/step - loss: 0.1982 - mae: 0.2997 - mse: 0.1982\n",
      "Epoch 43/100\n",
      "581/581 [==============================] - 2s 3ms/step - loss: 0.1952 - mae: 0.2976 - mse: 0.1952\n",
      "Epoch 44/100\n",
      "581/581 [==============================] - 2s 3ms/step - loss: 0.1951 - mae: 0.2990 - mse: 0.1951\n",
      "Epoch 45/100\n",
      "581/581 [==============================] - 2s 3ms/step - loss: 0.1955 - mae: 0.2973 - mse: 0.1955\n",
      "Epoch 46/100\n",
      "581/581 [==============================] - 2s 3ms/step - loss: 0.1961 - mae: 0.2984 - mse: 0.1961\n",
      "Epoch 47/100\n",
      "581/581 [==============================] - 2s 3ms/step - loss: 0.1954 - mae: 0.2977 - mse: 0.1954\n",
      "Epoch 48/100\n",
      "581/581 [==============================] - 2s 3ms/step - loss: 0.1926 - mae: 0.2958 - mse: 0.1926\n",
      "Epoch 49/100\n",
      "581/581 [==============================] - 2s 3ms/step - loss: 0.1947 - mae: 0.2970 - mse: 0.1947\n",
      "Epoch 50/100\n",
      "581/581 [==============================] - 2s 3ms/step - loss: 0.1931 - mae: 0.2956 - mse: 0.1931\n",
      "Epoch 51/100\n",
      "581/581 [==============================] - 2s 3ms/step - loss: 0.1929 - mae: 0.2964 - mse: 0.1929\n",
      "Epoch 52/100\n",
      "581/581 [==============================] - 2s 3ms/step - loss: 0.1930 - mae: 0.2967 - mse: 0.1930\n",
      "Epoch 53/100\n",
      "581/581 [==============================] - 2s 3ms/step - loss: 0.1919 - mae: 0.2959 - mse: 0.1919\n",
      "Epoch 54/100\n",
      "581/581 [==============================] - 2s 3ms/step - loss: 0.1915 - mae: 0.2949 - mse: 0.1915\n",
      "Epoch 55/100\n",
      "581/581 [==============================] - 2s 3ms/step - loss: 0.1923 - mae: 0.2954 - mse: 0.1923\n",
      "Epoch 56/100\n",
      "581/581 [==============================] - 1s 3ms/step - loss: 0.1904 - mae: 0.2936 - mse: 0.1904\n",
      "Epoch 57/100\n",
      "581/581 [==============================] - 2s 3ms/step - loss: 0.1908 - mae: 0.2954 - mse: 0.1908\n",
      "Epoch 58/100\n",
      "581/581 [==============================] - 2s 3ms/step - loss: 0.1924 - mae: 0.2951 - mse: 0.1924\n",
      "Epoch 59/100\n",
      "581/581 [==============================] - 2s 3ms/step - loss: 0.1893 - mae: 0.2932 - mse: 0.1893\n",
      "Epoch 60/100\n",
      "581/581 [==============================] - 2s 3ms/step - loss: 0.1905 - mae: 0.2946 - mse: 0.1905\n",
      "Epoch 61/100\n",
      "581/581 [==============================] - 2s 3ms/step - loss: 0.1896 - mae: 0.2930 - mse: 0.1896\n",
      "Epoch 62/100\n",
      "581/581 [==============================] - 2s 3ms/step - loss: 0.1891 - mae: 0.2926 - mse: 0.1891\n",
      "Epoch 63/100\n",
      "581/581 [==============================] - 2s 3ms/step - loss: 0.1889 - mae: 0.2919 - mse: 0.1889\n",
      "Epoch 64/100\n",
      "581/581 [==============================] - 2s 3ms/step - loss: 0.1884 - mae: 0.2923 - mse: 0.1884\n",
      "Epoch 65/100\n",
      "581/581 [==============================] - 2s 3ms/step - loss: 0.1881 - mae: 0.2924 - mse: 0.1881\n",
      "Epoch 66/100\n",
      "581/581 [==============================] - 2s 3ms/step - loss: 0.1880 - mae: 0.2928 - mse: 0.1880\n",
      "Epoch 67/100\n",
      "581/581 [==============================] - 2s 3ms/step - loss: 0.1879 - mae: 0.2920 - mse: 0.1879\n",
      "Epoch 68/100\n",
      "581/581 [==============================] - 2s 3ms/step - loss: 0.1886 - mae: 0.2933 - mse: 0.1886\n",
      "Epoch 69/100\n",
      "581/581 [==============================] - 2s 3ms/step - loss: 0.1876 - mae: 0.2910 - mse: 0.1876\n",
      "Epoch 70/100\n",
      "581/581 [==============================] - 2s 3ms/step - loss: 0.1881 - mae: 0.2913 - mse: 0.1881\n",
      "Epoch 71/100\n",
      "581/581 [==============================] - 2s 3ms/step - loss: 0.1879 - mae: 0.2910 - mse: 0.1879\n",
      "Epoch 72/100\n",
      "581/581 [==============================] - 2s 3ms/step - loss: 0.1874 - mae: 0.2909 - mse: 0.1874\n",
      "Epoch 73/100\n",
      "581/581 [==============================] - 2s 3ms/step - loss: 0.1868 - mae: 0.2901 - mse: 0.1868\n",
      "Epoch 74/100\n",
      "581/581 [==============================] - 2s 3ms/step - loss: 0.1864 - mae: 0.2905 - mse: 0.1864\n",
      "Epoch 75/100\n",
      "581/581 [==============================] - 2s 3ms/step - loss: 0.1855 - mae: 0.2901 - mse: 0.1855\n",
      "Epoch 76/100\n",
      "581/581 [==============================] - 2s 3ms/step - loss: 0.1862 - mae: 0.2905 - mse: 0.1862\n",
      "Epoch 77/100\n",
      "581/581 [==============================] - 2s 3ms/step - loss: 0.1841 - mae: 0.2893 - mse: 0.1841\n",
      "Epoch 78/100\n",
      "581/581 [==============================] - 2s 3ms/step - loss: 0.1856 - mae: 0.2891 - mse: 0.1856\n",
      "Epoch 79/100\n",
      "581/581 [==============================] - 2s 3ms/step - loss: 0.1856 - mae: 0.2893 - mse: 0.1856\n",
      "Epoch 80/100\n",
      "581/581 [==============================] - 2s 3ms/step - loss: 0.1855 - mae: 0.2900 - mse: 0.1855\n",
      "Epoch 81/100\n",
      "581/581 [==============================] - 2s 3ms/step - loss: 0.1851 - mae: 0.2898 - mse: 0.1851\n",
      "Epoch 82/100\n",
      "581/581 [==============================] - 2s 3ms/step - loss: 0.1838 - mae: 0.2888 - mse: 0.1838\n",
      "Epoch 83/100\n",
      "581/581 [==============================] - 2s 3ms/step - loss: 0.1855 - mae: 0.2889 - mse: 0.1855\n",
      "Epoch 84/100\n",
      "581/581 [==============================] - 2s 3ms/step - loss: 0.1832 - mae: 0.2880 - mse: 0.1832\n",
      "Epoch 85/100\n",
      "581/581 [==============================] - 2s 3ms/step - loss: 0.1844 - mae: 0.2882 - mse: 0.1844\n",
      "Epoch 86/100\n",
      "581/581 [==============================] - 2s 3ms/step - loss: 0.1861 - mae: 0.2899 - mse: 0.1861\n",
      "Epoch 87/100\n",
      "581/581 [==============================] - 2s 3ms/step - loss: 0.1834 - mae: 0.2879 - mse: 0.1834\n",
      "Epoch 88/100\n",
      "581/581 [==============================] - 2s 3ms/step - loss: 0.1828 - mae: 0.2881 - mse: 0.1828\n",
      "Epoch 89/100\n",
      "581/581 [==============================] - 2s 3ms/step - loss: 0.1832 - mae: 0.2880 - mse: 0.1832\n",
      "Epoch 90/100\n",
      "581/581 [==============================] - 2s 3ms/step - loss: 0.1849 - mae: 0.2894 - mse: 0.1849\n",
      "Epoch 91/100\n",
      "581/581 [==============================] - 2s 3ms/step - loss: 0.1841 - mae: 0.2888 - mse: 0.1841\n",
      "Epoch 92/100\n",
      "581/581 [==============================] - 2s 3ms/step - loss: 0.1828 - mae: 0.2870 - mse: 0.1828\n",
      "Epoch 93/100\n",
      "581/581 [==============================] - 2s 3ms/step - loss: 0.1831 - mae: 0.2868 - mse: 0.1831\n",
      "Epoch 94/100\n",
      "581/581 [==============================] - 2s 3ms/step - loss: 0.1831 - mae: 0.2888 - mse: 0.1831\n",
      "Epoch 95/100\n",
      "581/581 [==============================] - 2s 3ms/step - loss: 0.1811 - mae: 0.2869 - mse: 0.1811\n",
      "Epoch 96/100\n",
      "581/581 [==============================] - 2s 3ms/step - loss: 0.1827 - mae: 0.2873 - mse: 0.1827\n",
      "Epoch 97/100\n",
      "581/581 [==============================] - 2s 3ms/step - loss: 0.1820 - mae: 0.2869 - mse: 0.1820\n",
      "Epoch 98/100\n",
      "581/581 [==============================] - 2s 3ms/step - loss: 0.1823 - mae: 0.2862 - mse: 0.1823\n",
      "Epoch 99/100\n",
      "581/581 [==============================] - 2s 3ms/step - loss: 0.1816 - mae: 0.2856 - mse: 0.1816\n",
      "Epoch 100/100\n",
      "581/581 [==============================] - 2s 3ms/step - loss: 0.1826 - mae: 0.2876 - mse: 0.1826\n"
     ]
    },
    {
     "data": {
      "text/plain": [
       "<keras.callbacks.History at 0x7f96a20034f0>"
      ]
     },
     "execution_count": 26,
     "metadata": {},
     "output_type": "execute_result"
    }
   ],
   "source": [
    "# Train the data to use the df to predict y\n",
    "model = create_model()\n",
    "model.fit(X_train, y_train, epochs=100)"
   ]
  },
  {
   "cell_type": "markdown",
   "metadata": {},
   "source": [
    "# Evaluate Performance"
   ]
  },
  {
   "cell_type": "code",
   "execution_count": 27,
   "metadata": {},
   "outputs": [
    {
     "name": "stdout",
     "output_type": "stream",
     "text": [
      "65/65 - 0s - loss: 0.2017 - mae: 0.2975 - mse: 0.2017 - 451ms/epoch - 7ms/step\n",
      "Testing set Mean Abs Error:  0.30 MPG\n",
      "65/65 [==============================] - 0s 4ms/step\n"
     ]
    },
    {
     "data": {
      "image/png": "[encoded data removed]",
      "text/plain": [
       "<Figure size 640x480 with 1 Axes>"
      ]
     },
     "metadata": {},
     "output_type": "display_data"
    }
   ],
   "source": [
    "# Evaluate the model\n",
    "loss, mae, mse = model.evaluate(X_test, y_test, verbose=2)\n",
    "print(\"Testing set Mean Abs Error: {:5.2f}\".format(mae))\n",
    "\n",
    "# Make predictions\n",
    "test_predictions = model.predict(X_test).flatten()\n",
    "\n",
    "plt.scatter(y_test, test_predictions)\n",
    "plt.title('Actual vs. Predicted Neighborhood Values (Scaled)')\n",
    "plt.xlabel('True Neighborhood Value')\n",
    "plt.ylabel('Predicted Neighborhood Value')\n",
    "plt.axis('equal')\n",
    "plt.axis('square')\n",
    "_ = plt.plot([-100, 100], [-100, 100])"
   ]
  },
  {
   "cell_type": "markdown",
   "metadata": {},
   "source": [
    "# Create a linear regression"
   ]
  },
  {
   "cell_type": "code",
   "execution_count": 47,
   "metadata": {},
   "outputs": [
    {
     "data": {
      "text/html": [
       "<table class=\"simpletable\">\n",
       "<caption>OLS Regression Results</caption>\n",
       "<tr>\n",
       "  <th>Dep. Variable:</th>    <td>median_house_value</td> <th>  R-squared:         </th> <td>   0.645</td> \n",
       "</tr>\n",
       "<tr>\n",
       "  <th>Model:</th>                    <td>OLS</td>        <th>  Adj. R-squared:    </th> <td>   0.645</td> \n",
       "</tr>\n",
       "<tr>\n",
       "  <th>Method:</th>              <td>Least Squares</td>   <th>  F-statistic:       </th> <td>   3130.</td> \n",
       "</tr>\n",
       "<tr>\n",
       "  <th>Date:</th>              <td>Thu, 08 Dec 2022</td>  <th>  Prob (F-statistic):</th>  <td>  0.00</td>  \n",
       "</tr>\n",
       "<tr>\n",
       "  <th>Time:</th>                  <td>12:27:50</td>      <th>  Log-Likelihood:    </th> <td> -18585.</td> \n",
       "</tr>\n",
       "<tr>\n",
       "  <th>No. Observations:</th>       <td> 20640</td>       <th>  AIC:               </th> <td>3.720e+04</td>\n",
       "</tr>\n",
       "<tr>\n",
       "  <th>Df Residuals:</th>           <td> 20627</td>       <th>  BIC:               </th> <td>3.730e+04</td>\n",
       "</tr>\n",
       "<tr>\n",
       "  <th>Df Model:</th>               <td>    12</td>       <th>                     </th>     <td> </td>    \n",
       "</tr>\n",
       "<tr>\n",
       "  <th>Covariance Type:</th>       <td>nonrobust</td>     <th>                     </th>     <td> </td>    \n",
       "</tr>\n",
       "</table>\n",
       "<table class=\"simpletable\">\n",
       "<tr>\n",
       "               <td></td>                 <th>coef</th>     <th>std err</th>      <th>t</th>      <th>P>|t|</th>  <th>[0.025</th>    <th>0.975]</th>  \n",
       "</tr>\n",
       "<tr>\n",
       "  <th>longitude</th>                  <td>   -0.4594</td> <td>    0.018</td> <td>  -26.092</td> <td> 0.000</td> <td>   -0.494</td> <td>   -0.425</td>\n",
       "</tr>\n",
       "<tr>\n",
       "  <th>latitude</th>                   <td>   -0.4664</td> <td>    0.019</td> <td>  -25.200</td> <td> 0.000</td> <td>   -0.503</td> <td>   -0.430</td>\n",
       "</tr>\n",
       "<tr>\n",
       "  <th>housing_median_age</th>         <td>    0.1154</td> <td>    0.005</td> <td>   24.205</td> <td> 0.000</td> <td>    0.106</td> <td>    0.125</td>\n",
       "</tr>\n",
       "<tr>\n",
       "  <th>total_rooms</th>                <td>   -0.0902</td> <td>    0.015</td> <td>   -6.186</td> <td> 0.000</td> <td>   -0.119</td> <td>   -0.062</td>\n",
       "</tr>\n",
       "<tr>\n",
       "  <th>total_bedrooms</th>             <td>    0.2626</td> <td>    0.022</td> <td>   12.080</td> <td> 0.000</td> <td>    0.220</td> <td>    0.305</td>\n",
       "</tr>\n",
       "<tr>\n",
       "  <th>population</th>                 <td>   -0.3853</td> <td>    0.010</td> <td>  -36.896</td> <td> 0.000</td> <td>   -0.406</td> <td>   -0.365</td>\n",
       "</tr>\n",
       "<tr>\n",
       "  <th>households</th>                 <td>    0.2549</td> <td>    0.022</td> <td>   11.490</td> <td> 0.000</td> <td>    0.211</td> <td>    0.298</td>\n",
       "</tr>\n",
       "<tr>\n",
       "  <th>median_income</th>              <td>    0.6384</td> <td>    0.005</td> <td>  116.635</td> <td> 0.000</td> <td>    0.628</td> <td>    0.649</td>\n",
       "</tr>\n",
       "<tr>\n",
       "  <th>ocean_proximity_<1H OCEAN</th>  <td>    0.1072</td> <td>    0.007</td> <td>   14.790</td> <td> 0.000</td> <td>    0.093</td> <td>    0.121</td>\n",
       "</tr>\n",
       "<tr>\n",
       "  <th>ocean_proximity_INLAND</th>     <td>   -0.2370</td> <td>    0.011</td> <td>  -21.579</td> <td> 0.000</td> <td>   -0.259</td> <td>   -0.216</td>\n",
       "</tr>\n",
       "<tr>\n",
       "  <th>ocean_proximity_ISLAND</th>     <td>    1.4594</td> <td>    0.267</td> <td>    5.473</td> <td> 0.000</td> <td>    0.937</td> <td>    1.982</td>\n",
       "</tr>\n",
       "<tr>\n",
       "  <th>ocean_proximity_NEAR BAY</th>   <td>    0.0752</td> <td>    0.015</td> <td>    5.048</td> <td> 0.000</td> <td>    0.046</td> <td>    0.104</td>\n",
       "</tr>\n",
       "<tr>\n",
       "  <th>ocean_proximity_NEAR OCEAN</th> <td>    0.1483</td> <td>    0.013</td> <td>   11.488</td> <td> 0.000</td> <td>    0.123</td> <td>    0.174</td>\n",
       "</tr>\n",
       "</table>\n",
       "<table class=\"simpletable\">\n",
       "<tr>\n",
       "  <th>Omnibus:</th>       <td>5175.381</td> <th>  Durbin-Watson:     </th> <td>   0.968</td> \n",
       "</tr>\n",
       "<tr>\n",
       "  <th>Prob(Omnibus):</th>  <td> 0.000</td>  <th>  Jarque-Bera (JB):  </th> <td>19749.153</td>\n",
       "</tr>\n",
       "<tr>\n",
       "  <th>Skew:</th>           <td> 1.212</td>  <th>  Prob(JB):          </th> <td>    0.00</td> \n",
       "</tr>\n",
       "<tr>\n",
       "  <th>Kurtosis:</th>       <td> 7.133</td>  <th>  Cond. No.          </th> <td>    127.</td> \n",
       "</tr>\n",
       "</table><br/><br/>Notes:<br/>[1] Standard Errors assume that the covariance matrix of the errors is correctly specified."
      ],
      "text/plain": [
       "<class 'statsmodels.iolib.summary.Summary'>\n",
       "\"\"\"\n",
       "                            OLS Regression Results                            \n",
       "==============================================================================\n",
       "Dep. Variable:     median_house_value   R-squared:                       0.645\n",
       "Model:                            OLS   Adj. R-squared:                  0.645\n",
       "Method:                 Least Squares   F-statistic:                     3130.\n",
       "Date:                Thu, 08 Dec 2022   Prob (F-statistic):               0.00\n",
       "Time:                        12:27:50   Log-Likelihood:                -18585.\n",
       "No. Observations:               20640   AIC:                         3.720e+04\n",
       "Df Residuals:                   20627   BIC:                         3.730e+04\n",
       "Df Model:                          12                                         \n",
       "Covariance Type:            nonrobust                                         \n",
       "==============================================================================================\n",
       "                                 coef    std err          t      P>|t|      [0.025      0.975]\n",
       "----------------------------------------------------------------------------------------------\n",
       "longitude                     -0.4594      0.018    -26.092      0.000      -0.494      -0.425\n",
       "latitude                      -0.4664      0.019    -25.200      0.000      -0.503      -0.430\n",
       "housing_median_age             0.1154      0.005     24.205      0.000       0.106       0.125\n",
       "total_rooms                   -0.0902      0.015     -6.186      0.000      -0.119      -0.062\n",
       "total_bedrooms                 0.2626      0.022     12.080      0.000       0.220       0.305\n",
       "population                    -0.3853      0.010    -36.896      0.000      -0.406      -0.365\n",
       "households                     0.2549      0.022     11.490      0.000       0.211       0.298\n",
       "median_income                  0.6384      0.005    116.635      0.000       0.628       0.649\n",
       "ocean_proximity_<1H OCEAN      0.1072      0.007     14.790      0.000       0.093       0.121\n",
       "ocean_proximity_INLAND        -0.2370      0.011    -21.579      0.000      -0.259      -0.216\n",
       "ocean_proximity_ISLAND         1.4594      0.267      5.473      0.000       0.937       1.982\n",
       "ocean_proximity_NEAR BAY       0.0752      0.015      5.048      0.000       0.046       0.104\n",
       "ocean_proximity_NEAR OCEAN     0.1483      0.013     11.488      0.000       0.123       0.174\n",
       "==============================================================================\n",
       "Omnibus:                     5175.381   Durbin-Watson:                   0.968\n",
       "Prob(Omnibus):                  0.000   Jarque-Bera (JB):            19749.153\n",
       "Skew:                           1.212   Prob(JB):                         0.00\n",
       "Kurtosis:                       7.133   Cond. No.                         127.\n",
       "==============================================================================\n",
       "\n",
       "Notes:\n",
       "[1] Standard Errors assume that the covariance matrix of the errors is correctly specified.\n",
       "\"\"\""
      ]
     },
     "execution_count": 47,
     "metadata": {},
     "output_type": "execute_result"
    }
   ],
   "source": [
    "# complete a linear regression using the statsmodels library\n",
    "import statsmodels.api as sm\n",
    "\n",
    "# create a multivariate linear regression model of the data\n",
    "# the dependent variable is the 'median_house_value' column\n",
    "lm = sm.OLS(y, df)\n",
    "\n",
    "# fit the model to the data\n",
    "results = lm.fit()\n",
    "results.summary()"
   ]
  },
  {
   "cell_type": "markdown",
   "metadata": {},
   "source": [
    "# Compare Model to LM"
   ]
  },
  {
   "cell_type": "code",
   "execution_count": 48,
   "metadata": {},
   "outputs": [
    {
     "name": "stdout",
     "output_type": "stream",
     "text": [
      "Neural Network R2 Score:  0.8469814561849485\n",
      "Linear Regression R2 Score:  0.6454747751244776\n"
     ]
    }
   ],
   "source": [
    "# Compute accuracy of the neural network\n",
    "from sklearn.metrics import r2_score\n",
    "print(\"Neural Network R2 Score: \", r2_score(y_test, test_predictions))\n",
    "print(\"Linear Regression R2 Score: \", results.rsquared)"
   ]
  }
 ],
 "metadata": {
  "kernelspec": {
   "display_name": "Python 3",
   "language": "python",
   "name": "python3"
  },
  "language_info": {
   "codemirror_mode": {
    "name": "ipython",
    "version": 3
   },
   "file_extension": ".py",
   "mimetype": "text/x-python",
   "name": "python",
   "nbconvert_exporter": "python",
   "pygments_lexer": "ipython3",
   "version": "3.8.10 (default, Jun 22 2022, 20:18:18) \n[GCC 9.4.0]"
  },
  "orig_nbformat": 4,
  "vscode": {
   "interpreter": {
    "hash": "916dbcbb3f70747c44a77c7bcd40155683ae19c65e1c03b4aa3499c5328201f1"
   }
  }
 },
 "nbformat": 4,
 "nbformat_minor": 2
}
